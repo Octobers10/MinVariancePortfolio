{
  "nbformat": 4,
  "nbformat_minor": 0,
  "metadata": {
    "kernelspec": {
      "display_name": "Python 3",
      "language": "python",
      "name": "python3"
    },
    "language_info": {
      "codemirror_mode": {
        "name": "ipython",
        "version": 3
      },
      "file_extension": ".py",
      "mimetype": "text/x-python",
      "name": "python",
      "nbconvert_exporter": "python",
      "pygments_lexer": "ipython3",
      "version": "3.7.4"
    },
    "colab": {
      "name": "2021-12-01 Markowitz Portfolio Theory.ipynb",
      "provenance": []
    }
  },
  "cells": [
    {
      "cell_type": "code",
      "metadata": {
        "id": "YonEke1OhI5I",
        "colab": {
          "base_uri": "https://localhost:8080/"
        },
        "outputId": "03a9f136-ef48-4ee8-86d9-1485628c6d0f"
      },
      "source": [
        "!pip install yfinance\n",
        "\n",
        "import numpy as np\n",
        "import pandas as pd\n",
        "\n",
        "#Data Source\n",
        "import yfinance as yf\n",
        "\n",
        "from pandas_datareader import data\n",
        "import matplotlib.pyplot as plt\n",
        "%matplotlib inline\n"
      ],
      "execution_count": null,
      "outputs": [
        {
          "output_type": "stream",
          "name": "stdout",
          "text": [
            "Collecting yfinance\n",
            "  Downloading yfinance-0.1.67-py2.py3-none-any.whl (25 kB)\n",
            "Requirement already satisfied: pandas>=0.24 in /usr/local/lib/python3.7/dist-packages (from yfinance) (1.1.5)\n",
            "Requirement already satisfied: requests>=2.20 in /usr/local/lib/python3.7/dist-packages (from yfinance) (2.23.0)\n",
            "Requirement already satisfied: numpy>=1.15 in /usr/local/lib/python3.7/dist-packages (from yfinance) (1.19.5)\n",
            "Requirement already satisfied: multitasking>=0.0.7 in /usr/local/lib/python3.7/dist-packages (from yfinance) (0.0.10)\n",
            "Collecting lxml>=4.5.1\n",
            "  Downloading lxml-4.6.4-cp37-cp37m-manylinux_2_17_x86_64.manylinux2014_x86_64.manylinux_2_24_x86_64.whl (6.3 MB)\n",
            "\u001b[K     |████████████████████████████████| 6.3 MB 5.5 MB/s \n",
            "\u001b[?25hRequirement already satisfied: python-dateutil>=2.7.3 in /usr/local/lib/python3.7/dist-packages (from pandas>=0.24->yfinance) (2.8.2)\n",
            "Requirement already satisfied: pytz>=2017.2 in /usr/local/lib/python3.7/dist-packages (from pandas>=0.24->yfinance) (2018.9)\n",
            "Requirement already satisfied: six>=1.5 in /usr/local/lib/python3.7/dist-packages (from python-dateutil>=2.7.3->pandas>=0.24->yfinance) (1.15.0)\n",
            "Requirement already satisfied: chardet<4,>=3.0.2 in /usr/local/lib/python3.7/dist-packages (from requests>=2.20->yfinance) (3.0.4)\n",
            "Requirement already satisfied: certifi>=2017.4.17 in /usr/local/lib/python3.7/dist-packages (from requests>=2.20->yfinance) (2021.10.8)\n",
            "Requirement already satisfied: idna<3,>=2.5 in /usr/local/lib/python3.7/dist-packages (from requests>=2.20->yfinance) (2.10)\n",
            "Requirement already satisfied: urllib3!=1.25.0,!=1.25.1,<1.26,>=1.21.1 in /usr/local/lib/python3.7/dist-packages (from requests>=2.20->yfinance) (1.24.3)\n",
            "Installing collected packages: lxml, yfinance\n",
            "  Attempting uninstall: lxml\n",
            "    Found existing installation: lxml 4.2.6\n",
            "    Uninstalling lxml-4.2.6:\n",
            "      Successfully uninstalled lxml-4.2.6\n",
            "Successfully installed lxml-4.6.4 yfinance-0.1.67\n"
          ]
        }
      ]
    },
    {
      "cell_type": "code",
      "metadata": {
        "id": "eNYRmTVnhI5M",
        "colab": {
          "base_uri": "https://localhost:8080/"
        },
        "outputId": "dc877f3b-ade4-41b2-acd8-26820bc0c149"
      },
      "source": [
        "df = yf.download(\"VDE VAW VIS VCR VDC VHT VFH VGT VOX VPU VNQ\", period=\"1y\", interval = \"1d\")['Adj Close']"
      ],
      "execution_count": null,
      "outputs": [
        {
          "output_type": "stream",
          "name": "stdout",
          "text": [
            "[*********************100%***********************]  11 of 11 completed\n"
          ]
        }
      ]
    },
    {
      "cell_type": "code",
      "metadata": {
        "id": "rNXzISP8hI5N",
        "colab": {
          "base_uri": "https://localhost:8080/"
        },
        "outputId": "1b3de9ca-01d8-4a57-b41b-c30c961e7d19"
      },
      "source": [
        "# Estimated yearly returns for individual ETF\n",
        "ind_er = df.resample('Y').last().pct_change().mean()\n",
        "ind_er"
      ],
      "execution_count": null,
      "outputs": [
        {
          "output_type": "execute_result",
          "data": {
            "text/plain": [
              "VAW    0.214759\n",
              "VCR    0.270513\n",
              "VDC    0.081508\n",
              "VDE    0.568777\n",
              "VFH    0.344686\n",
              "VGT    0.289100\n",
              "VHT    0.134456\n",
              "VIS    0.173862\n",
              "VNQ    0.305041\n",
              "VOX    0.126203\n",
              "VPU    0.092285\n",
              "dtype: float64"
            ]
          },
          "metadata": {},
          "execution_count": 3
        }
      ]
    },
    {
      "cell_type": "code",
      "metadata": {
        "id": "yQB9_HUbhI5O",
        "colab": {
          "base_uri": "https://localhost:8080/"
        },
        "outputId": "7e847134-fbfa-4013-d5e4-fa0725ab19e3"
      },
      "source": [
        "# Variance for individual ETF\n",
        "df.resample('Y').last().pct_change().var()"
      ],
      "execution_count": null,
      "outputs": [
        {
          "output_type": "execute_result",
          "data": {
            "text/plain": [
              "VAW   NaN\n",
              "VCR   NaN\n",
              "VDC   NaN\n",
              "VDE   NaN\n",
              "VFH   NaN\n",
              "VGT   NaN\n",
              "VHT   NaN\n",
              "VIS   NaN\n",
              "VNQ   NaN\n",
              "VOX   NaN\n",
              "VPU   NaN\n",
              "dtype: float64"
            ]
          },
          "metadata": {},
          "execution_count": 4
        }
      ]
    },
    {
      "cell_type": "code",
      "metadata": {
        "id": "GkXSUSTJhI5O",
        "colab": {
          "base_uri": "https://localhost:8080/"
        },
        "outputId": "bf7695eb-425d-4a60-a2cb-9357fd14149a"
      },
      "source": [
        "# Correlation Coefficient Matrix\n",
        "corr_matrix = df.pct_change().apply(lambda x: np.log(1+x)).corr()\n",
        "corr_matrix"
      ],
      "execution_count": null,
      "outputs": [
        {
          "output_type": "execute_result",
          "data": {
            "text/html": [
              "<div>\n",
              "<style scoped>\n",
              "    .dataframe tbody tr th:only-of-type {\n",
              "        vertical-align: middle;\n",
              "    }\n",
              "\n",
              "    .dataframe tbody tr th {\n",
              "        vertical-align: top;\n",
              "    }\n",
              "\n",
              "    .dataframe thead th {\n",
              "        text-align: right;\n",
              "    }\n",
              "</style>\n",
              "<table border=\"1\" class=\"dataframe\">\n",
              "  <thead>\n",
              "    <tr style=\"text-align: right;\">\n",
              "      <th></th>\n",
              "      <th>VAW</th>\n",
              "      <th>VCR</th>\n",
              "      <th>VDC</th>\n",
              "      <th>VDE</th>\n",
              "      <th>VFH</th>\n",
              "      <th>VGT</th>\n",
              "      <th>VHT</th>\n",
              "      <th>VIS</th>\n",
              "      <th>VNQ</th>\n",
              "      <th>VOX</th>\n",
              "      <th>VPU</th>\n",
              "    </tr>\n",
              "  </thead>\n",
              "  <tbody>\n",
              "    <tr>\n",
              "      <th>VAW</th>\n",
              "      <td>1.000000</td>\n",
              "      <td>0.593288</td>\n",
              "      <td>0.536523</td>\n",
              "      <td>0.627597</td>\n",
              "      <td>0.811063</td>\n",
              "      <td>0.419322</td>\n",
              "      <td>0.505985</td>\n",
              "      <td>0.879240</td>\n",
              "      <td>0.471397</td>\n",
              "      <td>0.458032</td>\n",
              "      <td>0.314251</td>\n",
              "    </tr>\n",
              "    <tr>\n",
              "      <th>VCR</th>\n",
              "      <td>0.593288</td>\n",
              "      <td>1.000000</td>\n",
              "      <td>0.447591</td>\n",
              "      <td>0.322055</td>\n",
              "      <td>0.518878</td>\n",
              "      <td>0.764964</td>\n",
              "      <td>0.535447</td>\n",
              "      <td>0.677046</td>\n",
              "      <td>0.525454</td>\n",
              "      <td>0.692960</td>\n",
              "      <td>0.292001</td>\n",
              "    </tr>\n",
              "    <tr>\n",
              "      <th>VDC</th>\n",
              "      <td>0.536523</td>\n",
              "      <td>0.447591</td>\n",
              "      <td>1.000000</td>\n",
              "      <td>0.279095</td>\n",
              "      <td>0.499044</td>\n",
              "      <td>0.404652</td>\n",
              "      <td>0.536724</td>\n",
              "      <td>0.601269</td>\n",
              "      <td>0.609307</td>\n",
              "      <td>0.483446</td>\n",
              "      <td>0.635335</td>\n",
              "    </tr>\n",
              "    <tr>\n",
              "      <th>VDE</th>\n",
              "      <td>0.627597</td>\n",
              "      <td>0.322055</td>\n",
              "      <td>0.279095</td>\n",
              "      <td>1.000000</td>\n",
              "      <td>0.691871</td>\n",
              "      <td>0.170801</td>\n",
              "      <td>0.210417</td>\n",
              "      <td>0.617167</td>\n",
              "      <td>0.263303</td>\n",
              "      <td>0.307103</td>\n",
              "      <td>0.032717</td>\n",
              "    </tr>\n",
              "    <tr>\n",
              "      <th>VFH</th>\n",
              "      <td>0.811063</td>\n",
              "      <td>0.518878</td>\n",
              "      <td>0.499044</td>\n",
              "      <td>0.691871</td>\n",
              "      <td>1.000000</td>\n",
              "      <td>0.330439</td>\n",
              "      <td>0.414729</td>\n",
              "      <td>0.872232</td>\n",
              "      <td>0.467336</td>\n",
              "      <td>0.457132</td>\n",
              "      <td>0.332690</td>\n",
              "    </tr>\n",
              "    <tr>\n",
              "      <th>VGT</th>\n",
              "      <td>0.419322</td>\n",
              "      <td>0.764964</td>\n",
              "      <td>0.404652</td>\n",
              "      <td>0.170801</td>\n",
              "      <td>0.330439</td>\n",
              "      <td>1.000000</td>\n",
              "      <td>0.646568</td>\n",
              "      <td>0.508711</td>\n",
              "      <td>0.501248</td>\n",
              "      <td>0.751721</td>\n",
              "      <td>0.249383</td>\n",
              "    </tr>\n",
              "    <tr>\n",
              "      <th>VHT</th>\n",
              "      <td>0.505985</td>\n",
              "      <td>0.535447</td>\n",
              "      <td>0.536724</td>\n",
              "      <td>0.210417</td>\n",
              "      <td>0.414729</td>\n",
              "      <td>0.646568</td>\n",
              "      <td>1.000000</td>\n",
              "      <td>0.546129</td>\n",
              "      <td>0.492194</td>\n",
              "      <td>0.561140</td>\n",
              "      <td>0.460512</td>\n",
              "    </tr>\n",
              "    <tr>\n",
              "      <th>VIS</th>\n",
              "      <td>0.879240</td>\n",
              "      <td>0.677046</td>\n",
              "      <td>0.601269</td>\n",
              "      <td>0.617167</td>\n",
              "      <td>0.872232</td>\n",
              "      <td>0.508711</td>\n",
              "      <td>0.546129</td>\n",
              "      <td>1.000000</td>\n",
              "      <td>0.582169</td>\n",
              "      <td>0.559297</td>\n",
              "      <td>0.399357</td>\n",
              "    </tr>\n",
              "    <tr>\n",
              "      <th>VNQ</th>\n",
              "      <td>0.471397</td>\n",
              "      <td>0.525454</td>\n",
              "      <td>0.609307</td>\n",
              "      <td>0.263303</td>\n",
              "      <td>0.467336</td>\n",
              "      <td>0.501248</td>\n",
              "      <td>0.492194</td>\n",
              "      <td>0.582169</td>\n",
              "      <td>1.000000</td>\n",
              "      <td>0.504384</td>\n",
              "      <td>0.599023</td>\n",
              "    </tr>\n",
              "    <tr>\n",
              "      <th>VOX</th>\n",
              "      <td>0.458032</td>\n",
              "      <td>0.692960</td>\n",
              "      <td>0.483446</td>\n",
              "      <td>0.307103</td>\n",
              "      <td>0.457132</td>\n",
              "      <td>0.751721</td>\n",
              "      <td>0.561140</td>\n",
              "      <td>0.559297</td>\n",
              "      <td>0.504384</td>\n",
              "      <td>1.000000</td>\n",
              "      <td>0.348457</td>\n",
              "    </tr>\n",
              "    <tr>\n",
              "      <th>VPU</th>\n",
              "      <td>0.314251</td>\n",
              "      <td>0.292001</td>\n",
              "      <td>0.635335</td>\n",
              "      <td>0.032717</td>\n",
              "      <td>0.332690</td>\n",
              "      <td>0.249383</td>\n",
              "      <td>0.460512</td>\n",
              "      <td>0.399357</td>\n",
              "      <td>0.599023</td>\n",
              "      <td>0.348457</td>\n",
              "      <td>1.000000</td>\n",
              "    </tr>\n",
              "  </tbody>\n",
              "</table>\n",
              "</div>"
            ],
            "text/plain": [
              "          VAW       VCR       VDC  ...       VNQ       VOX       VPU\n",
              "VAW  1.000000  0.593288  0.536523  ...  0.471397  0.458032  0.314251\n",
              "VCR  0.593288  1.000000  0.447591  ...  0.525454  0.692960  0.292001\n",
              "VDC  0.536523  0.447591  1.000000  ...  0.609307  0.483446  0.635335\n",
              "VDE  0.627597  0.322055  0.279095  ...  0.263303  0.307103  0.032717\n",
              "VFH  0.811063  0.518878  0.499044  ...  0.467336  0.457132  0.332690\n",
              "VGT  0.419322  0.764964  0.404652  ...  0.501248  0.751721  0.249383\n",
              "VHT  0.505985  0.535447  0.536724  ...  0.492194  0.561140  0.460512\n",
              "VIS  0.879240  0.677046  0.601269  ...  0.582169  0.559297  0.399357\n",
              "VNQ  0.471397  0.525454  0.609307  ...  1.000000  0.504384  0.599023\n",
              "VOX  0.458032  0.692960  0.483446  ...  0.504384  1.000000  0.348457\n",
              "VPU  0.314251  0.292001  0.635335  ...  0.599023  0.348457  1.000000\n",
              "\n",
              "[11 rows x 11 columns]"
            ]
          },
          "metadata": {},
          "execution_count": 5
        }
      ]
    },
    {
      "cell_type": "code",
      "metadata": {
        "id": "pPrPKeGnhI5P",
        "colab": {
          "base_uri": "https://localhost:8080/"
        },
        "outputId": "7bfbf445-4062-460e-be2f-6fd6bb045d92"
      },
      "source": [
        "# VIS, VFH and VOX are now removed due to their high correlation coefficients\n",
        "df = yf.download(\"VDE VAW VCR VDC VHT VGT VPU VNQ\", period=\"1y\", interval = \"1d\")['Adj Close']"
      ],
      "execution_count": null,
      "outputs": [
        {
          "output_type": "stream",
          "name": "stdout",
          "text": [
            "[*********************100%***********************]  8 of 8 completed\n"
          ]
        }
      ]
    },
    {
      "cell_type": "code",
      "metadata": {
        "id": "7l40x7JJuDTc",
        "colab": {
          "base_uri": "https://localhost:8080/",
          "height": 718
        },
        "outputId": "2925c4e2-4d98-4aa7-8b8c-60f76b12ca5a"
      },
      "source": [
        "df"
      ],
      "execution_count": null,
      "outputs": [
        {
          "output_type": "execute_result",
          "data": {
            "text/html": [
              "<div>\n",
              "<style scoped>\n",
              "    .dataframe tbody tr th:only-of-type {\n",
              "        vertical-align: middle;\n",
              "    }\n",
              "\n",
              "    .dataframe tbody tr th {\n",
              "        vertical-align: top;\n",
              "    }\n",
              "\n",
              "    .dataframe thead th {\n",
              "        text-align: right;\n",
              "    }\n",
              "</style>\n",
              "<table border=\"1\" class=\"dataframe\">\n",
              "  <thead>\n",
              "    <tr style=\"text-align: right;\">\n",
              "      <th></th>\n",
              "      <th>VAW</th>\n",
              "      <th>VCR</th>\n",
              "      <th>VDC</th>\n",
              "      <th>VDE</th>\n",
              "      <th>VGT</th>\n",
              "      <th>VHT</th>\n",
              "      <th>VNQ</th>\n",
              "      <th>VPU</th>\n",
              "    </tr>\n",
              "    <tr>\n",
              "      <th>Date</th>\n",
              "      <th></th>\n",
              "      <th></th>\n",
              "      <th></th>\n",
              "      <th></th>\n",
              "      <th></th>\n",
              "      <th></th>\n",
              "      <th></th>\n",
              "      <th></th>\n",
              "    </tr>\n",
              "  </thead>\n",
              "  <tbody>\n",
              "    <tr>\n",
              "      <th>2020-12-01</th>\n",
              "      <td>151.776642</td>\n",
              "      <td>262.638519</td>\n",
              "      <td>169.131577</td>\n",
              "      <td>48.032093</td>\n",
              "      <td>335.591339</td>\n",
              "      <td>214.356720</td>\n",
              "      <td>82.148384</td>\n",
              "      <td>133.915482</td>\n",
              "    </tr>\n",
              "    <tr>\n",
              "      <th>2020-12-02</th>\n",
              "      <td>150.006760</td>\n",
              "      <td>260.214508</td>\n",
              "      <td>167.631119</td>\n",
              "      <td>49.517815</td>\n",
              "      <td>335.184418</td>\n",
              "      <td>215.402740</td>\n",
              "      <td>81.501472</td>\n",
              "      <td>134.612488</td>\n",
              "    </tr>\n",
              "    <tr>\n",
              "      <th>2020-12-03</th>\n",
              "      <td>149.190659</td>\n",
              "      <td>262.648468</td>\n",
              "      <td>168.371597</td>\n",
              "      <td>50.073765</td>\n",
              "      <td>335.392853</td>\n",
              "      <td>215.392883</td>\n",
              "      <td>82.187004</td>\n",
              "      <td>133.402390</td>\n",
              "    </tr>\n",
              "    <tr>\n",
              "      <th>2020-12-04</th>\n",
              "      <td>152.494415</td>\n",
              "      <td>263.771088</td>\n",
              "      <td>169.803864</td>\n",
              "      <td>52.805584</td>\n",
              "      <td>339.154602</td>\n",
              "      <td>218.175705</td>\n",
              "      <td>83.442207</td>\n",
              "      <td>132.221298</td>\n",
              "    </tr>\n",
              "    <tr>\n",
              "      <th>2020-12-07</th>\n",
              "      <td>151.550476</td>\n",
              "      <td>265.122162</td>\n",
              "      <td>169.131577</td>\n",
              "      <td>51.540325</td>\n",
              "      <td>339.998230</td>\n",
              "      <td>217.021133</td>\n",
              "      <td>82.718040</td>\n",
              "      <td>132.879623</td>\n",
              "    </tr>\n",
              "    <tr>\n",
              "      <th>...</th>\n",
              "      <td>...</td>\n",
              "      <td>...</td>\n",
              "      <td>...</td>\n",
              "      <td>...</td>\n",
              "      <td>...</td>\n",
              "      <td>...</td>\n",
              "      <td>...</td>\n",
              "      <td>...</td>\n",
              "    </tr>\n",
              "    <tr>\n",
              "      <th>2021-11-24</th>\n",
              "      <td>192.429993</td>\n",
              "      <td>351.940002</td>\n",
              "      <td>190.169998</td>\n",
              "      <td>81.529999</td>\n",
              "      <td>452.309998</td>\n",
              "      <td>254.309998</td>\n",
              "      <td>111.089996</td>\n",
              "      <td>148.660004</td>\n",
              "    </tr>\n",
              "    <tr>\n",
              "      <th>2021-11-26</th>\n",
              "      <td>188.869995</td>\n",
              "      <td>343.179993</td>\n",
              "      <td>187.259995</td>\n",
              "      <td>78.000000</td>\n",
              "      <td>442.119995</td>\n",
              "      <td>252.660004</td>\n",
              "      <td>108.000000</td>\n",
              "      <td>146.179993</td>\n",
              "    </tr>\n",
              "    <tr>\n",
              "      <th>2021-11-29</th>\n",
              "      <td>189.270004</td>\n",
              "      <td>346.670013</td>\n",
              "      <td>187.979996</td>\n",
              "      <td>78.550003</td>\n",
              "      <td>452.149994</td>\n",
              "      <td>252.649994</td>\n",
              "      <td>108.800003</td>\n",
              "      <td>148.199997</td>\n",
              "    </tr>\n",
              "    <tr>\n",
              "      <th>2021-11-30</th>\n",
              "      <td>184.320007</td>\n",
              "      <td>341.589996</td>\n",
              "      <td>183.020004</td>\n",
              "      <td>76.550003</td>\n",
              "      <td>447.690002</td>\n",
              "      <td>248.179993</td>\n",
              "      <td>106.739998</td>\n",
              "      <td>143.929993</td>\n",
              "    </tr>\n",
              "    <tr>\n",
              "      <th>2021-12-01</th>\n",
              "      <td>188.494995</td>\n",
              "      <td>347.329987</td>\n",
              "      <td>184.940002</td>\n",
              "      <td>78.849998</td>\n",
              "      <td>453.573792</td>\n",
              "      <td>251.470001</td>\n",
              "      <td>108.739998</td>\n",
              "      <td>146.524994</td>\n",
              "    </tr>\n",
              "  </tbody>\n",
              "</table>\n",
              "<p>253 rows × 8 columns</p>\n",
              "</div>"
            ],
            "text/plain": [
              "                   VAW         VCR  ...         VNQ         VPU\n",
              "Date                                ...                        \n",
              "2020-12-01  151.776642  262.638519  ...   82.148384  133.915482\n",
              "2020-12-02  150.006760  260.214508  ...   81.501472  134.612488\n",
              "2020-12-03  149.190659  262.648468  ...   82.187004  133.402390\n",
              "2020-12-04  152.494415  263.771088  ...   83.442207  132.221298\n",
              "2020-12-07  151.550476  265.122162  ...   82.718040  132.879623\n",
              "...                ...         ...  ...         ...         ...\n",
              "2021-11-24  192.429993  351.940002  ...  111.089996  148.660004\n",
              "2021-11-26  188.869995  343.179993  ...  108.000000  146.179993\n",
              "2021-11-29  189.270004  346.670013  ...  108.800003  148.199997\n",
              "2021-11-30  184.320007  341.589996  ...  106.739998  143.929993\n",
              "2021-12-01  188.494995  347.329987  ...  108.739998  146.524994\n",
              "\n",
              "[253 rows x 8 columns]"
            ]
          },
          "metadata": {},
          "execution_count": 7
        }
      ]
    },
    {
      "cell_type": "code",
      "metadata": {
        "id": "1x-olHCihI5Q",
        "colab": {
          "base_uri": "https://localhost:8080/",
          "height": 320
        },
        "outputId": "a5c13e51-44b2-476a-d978-a44b9d63e1ca"
      },
      "source": [
        "# Covariance Matrix\n",
        "cov_matrix = df.pct_change().cov()\n",
        "cov_matrix"
      ],
      "execution_count": null,
      "outputs": [
        {
          "output_type": "execute_result",
          "data": {
            "text/html": [
              "<div>\n",
              "<style scoped>\n",
              "    .dataframe tbody tr th:only-of-type {\n",
              "        vertical-align: middle;\n",
              "    }\n",
              "\n",
              "    .dataframe tbody tr th {\n",
              "        vertical-align: top;\n",
              "    }\n",
              "\n",
              "    .dataframe thead th {\n",
              "        text-align: right;\n",
              "    }\n",
              "</style>\n",
              "<table border=\"1\" class=\"dataframe\">\n",
              "  <thead>\n",
              "    <tr style=\"text-align: right;\">\n",
              "      <th></th>\n",
              "      <th>VAW</th>\n",
              "      <th>VCR</th>\n",
              "      <th>VDC</th>\n",
              "      <th>VDE</th>\n",
              "      <th>VGT</th>\n",
              "      <th>VHT</th>\n",
              "      <th>VNQ</th>\n",
              "      <th>VPU</th>\n",
              "    </tr>\n",
              "  </thead>\n",
              "  <tbody>\n",
              "    <tr>\n",
              "      <th>VAW</th>\n",
              "      <td>0.000128</td>\n",
              "      <td>0.000070</td>\n",
              "      <td>0.000041</td>\n",
              "      <td>0.000141</td>\n",
              "      <td>0.000055</td>\n",
              "      <td>0.000043</td>\n",
              "      <td>0.000049</td>\n",
              "      <td>0.000033</td>\n",
              "    </tr>\n",
              "    <tr>\n",
              "      <th>VCR</th>\n",
              "      <td>0.000070</td>\n",
              "      <td>0.000107</td>\n",
              "      <td>0.000031</td>\n",
              "      <td>0.000066</td>\n",
              "      <td>0.000093</td>\n",
              "      <td>0.000042</td>\n",
              "      <td>0.000050</td>\n",
              "      <td>0.000028</td>\n",
              "    </tr>\n",
              "    <tr>\n",
              "      <th>VDC</th>\n",
              "      <td>0.000041</td>\n",
              "      <td>0.000031</td>\n",
              "      <td>0.000045</td>\n",
              "      <td>0.000037</td>\n",
              "      <td>0.000031</td>\n",
              "      <td>0.000027</td>\n",
              "      <td>0.000037</td>\n",
              "      <td>0.000040</td>\n",
              "    </tr>\n",
              "    <tr>\n",
              "      <th>VDE</th>\n",
              "      <td>0.000141</td>\n",
              "      <td>0.000066</td>\n",
              "      <td>0.000037</td>\n",
              "      <td>0.000393</td>\n",
              "      <td>0.000039</td>\n",
              "      <td>0.000032</td>\n",
              "      <td>0.000048</td>\n",
              "      <td>0.000006</td>\n",
              "    </tr>\n",
              "    <tr>\n",
              "      <th>VGT</th>\n",
              "      <td>0.000055</td>\n",
              "      <td>0.000093</td>\n",
              "      <td>0.000031</td>\n",
              "      <td>0.000039</td>\n",
              "      <td>0.000136</td>\n",
              "      <td>0.000057</td>\n",
              "      <td>0.000053</td>\n",
              "      <td>0.000027</td>\n",
              "    </tr>\n",
              "    <tr>\n",
              "      <th>VHT</th>\n",
              "      <td>0.000043</td>\n",
              "      <td>0.000042</td>\n",
              "      <td>0.000027</td>\n",
              "      <td>0.000032</td>\n",
              "      <td>0.000057</td>\n",
              "      <td>0.000057</td>\n",
              "      <td>0.000034</td>\n",
              "      <td>0.000033</td>\n",
              "    </tr>\n",
              "    <tr>\n",
              "      <th>VNQ</th>\n",
              "      <td>0.000049</td>\n",
              "      <td>0.000050</td>\n",
              "      <td>0.000037</td>\n",
              "      <td>0.000048</td>\n",
              "      <td>0.000053</td>\n",
              "      <td>0.000034</td>\n",
              "      <td>0.000083</td>\n",
              "      <td>0.000051</td>\n",
              "    </tr>\n",
              "    <tr>\n",
              "      <th>VPU</th>\n",
              "      <td>0.000033</td>\n",
              "      <td>0.000028</td>\n",
              "      <td>0.000040</td>\n",
              "      <td>0.000006</td>\n",
              "      <td>0.000027</td>\n",
              "      <td>0.000033</td>\n",
              "      <td>0.000051</td>\n",
              "      <td>0.000087</td>\n",
              "    </tr>\n",
              "  </tbody>\n",
              "</table>\n",
              "</div>"
            ],
            "text/plain": [
              "          VAW       VCR       VDC  ...       VHT       VNQ       VPU\n",
              "VAW  0.000128  0.000070  0.000041  ...  0.000043  0.000049  0.000033\n",
              "VCR  0.000070  0.000107  0.000031  ...  0.000042  0.000050  0.000028\n",
              "VDC  0.000041  0.000031  0.000045  ...  0.000027  0.000037  0.000040\n",
              "VDE  0.000141  0.000066  0.000037  ...  0.000032  0.000048  0.000006\n",
              "VGT  0.000055  0.000093  0.000031  ...  0.000057  0.000053  0.000027\n",
              "VHT  0.000043  0.000042  0.000027  ...  0.000057  0.000034  0.000033\n",
              "VNQ  0.000049  0.000050  0.000037  ...  0.000034  0.000083  0.000051\n",
              "VPU  0.000033  0.000028  0.000040  ...  0.000033  0.000051  0.000087\n",
              "\n",
              "[8 rows x 8 columns]"
            ]
          },
          "metadata": {},
          "execution_count": 8
        }
      ]
    },
    {
      "cell_type": "code",
      "metadata": {
        "id": "zTItEcAvhI5Q",
        "colab": {
          "base_uri": "https://localhost:8080/",
          "height": 320
        },
        "outputId": "4f715213-0566-4376-b381-b94892485150"
      },
      "source": [
        "# Correlation Coefficient Matrix\n",
        "corr_matrix = df.pct_change().apply(lambda x: np.log(1+x)).corr()\n",
        "corr_matrix"
      ],
      "execution_count": null,
      "outputs": [
        {
          "output_type": "execute_result",
          "data": {
            "text/html": [
              "<div>\n",
              "<style scoped>\n",
              "    .dataframe tbody tr th:only-of-type {\n",
              "        vertical-align: middle;\n",
              "    }\n",
              "\n",
              "    .dataframe tbody tr th {\n",
              "        vertical-align: top;\n",
              "    }\n",
              "\n",
              "    .dataframe thead th {\n",
              "        text-align: right;\n",
              "    }\n",
              "</style>\n",
              "<table border=\"1\" class=\"dataframe\">\n",
              "  <thead>\n",
              "    <tr style=\"text-align: right;\">\n",
              "      <th></th>\n",
              "      <th>VAW</th>\n",
              "      <th>VCR</th>\n",
              "      <th>VDC</th>\n",
              "      <th>VDE</th>\n",
              "      <th>VGT</th>\n",
              "      <th>VHT</th>\n",
              "      <th>VNQ</th>\n",
              "      <th>VPU</th>\n",
              "    </tr>\n",
              "  </thead>\n",
              "  <tbody>\n",
              "    <tr>\n",
              "      <th>VAW</th>\n",
              "      <td>1.000000</td>\n",
              "      <td>0.593289</td>\n",
              "      <td>0.536523</td>\n",
              "      <td>0.627597</td>\n",
              "      <td>0.419322</td>\n",
              "      <td>0.505984</td>\n",
              "      <td>0.471398</td>\n",
              "      <td>0.314249</td>\n",
              "    </tr>\n",
              "    <tr>\n",
              "      <th>VCR</th>\n",
              "      <td>0.593289</td>\n",
              "      <td>1.000000</td>\n",
              "      <td>0.447591</td>\n",
              "      <td>0.322055</td>\n",
              "      <td>0.764964</td>\n",
              "      <td>0.535446</td>\n",
              "      <td>0.525455</td>\n",
              "      <td>0.292001</td>\n",
              "    </tr>\n",
              "    <tr>\n",
              "      <th>VDC</th>\n",
              "      <td>0.536523</td>\n",
              "      <td>0.447591</td>\n",
              "      <td>1.000000</td>\n",
              "      <td>0.279094</td>\n",
              "      <td>0.404652</td>\n",
              "      <td>0.536724</td>\n",
              "      <td>0.609308</td>\n",
              "      <td>0.635335</td>\n",
              "    </tr>\n",
              "    <tr>\n",
              "      <th>VDE</th>\n",
              "      <td>0.627597</td>\n",
              "      <td>0.322055</td>\n",
              "      <td>0.279094</td>\n",
              "      <td>1.000000</td>\n",
              "      <td>0.170801</td>\n",
              "      <td>0.210417</td>\n",
              "      <td>0.263303</td>\n",
              "      <td>0.032716</td>\n",
              "    </tr>\n",
              "    <tr>\n",
              "      <th>VGT</th>\n",
              "      <td>0.419322</td>\n",
              "      <td>0.764964</td>\n",
              "      <td>0.404652</td>\n",
              "      <td>0.170801</td>\n",
              "      <td>1.000000</td>\n",
              "      <td>0.646568</td>\n",
              "      <td>0.501248</td>\n",
              "      <td>0.249382</td>\n",
              "    </tr>\n",
              "    <tr>\n",
              "      <th>VHT</th>\n",
              "      <td>0.505984</td>\n",
              "      <td>0.535446</td>\n",
              "      <td>0.536724</td>\n",
              "      <td>0.210417</td>\n",
              "      <td>0.646568</td>\n",
              "      <td>1.000000</td>\n",
              "      <td>0.492194</td>\n",
              "      <td>0.460510</td>\n",
              "    </tr>\n",
              "    <tr>\n",
              "      <th>VNQ</th>\n",
              "      <td>0.471398</td>\n",
              "      <td>0.525455</td>\n",
              "      <td>0.609308</td>\n",
              "      <td>0.263303</td>\n",
              "      <td>0.501248</td>\n",
              "      <td>0.492194</td>\n",
              "      <td>1.000000</td>\n",
              "      <td>0.599023</td>\n",
              "    </tr>\n",
              "    <tr>\n",
              "      <th>VPU</th>\n",
              "      <td>0.314249</td>\n",
              "      <td>0.292001</td>\n",
              "      <td>0.635335</td>\n",
              "      <td>0.032716</td>\n",
              "      <td>0.249382</td>\n",
              "      <td>0.460510</td>\n",
              "      <td>0.599023</td>\n",
              "      <td>1.000000</td>\n",
              "    </tr>\n",
              "  </tbody>\n",
              "</table>\n",
              "</div>"
            ],
            "text/plain": [
              "          VAW       VCR       VDC  ...       VHT       VNQ       VPU\n",
              "VAW  1.000000  0.593289  0.536523  ...  0.505984  0.471398  0.314249\n",
              "VCR  0.593289  1.000000  0.447591  ...  0.535446  0.525455  0.292001\n",
              "VDC  0.536523  0.447591  1.000000  ...  0.536724  0.609308  0.635335\n",
              "VDE  0.627597  0.322055  0.279094  ...  0.210417  0.263303  0.032716\n",
              "VGT  0.419322  0.764964  0.404652  ...  0.646568  0.501248  0.249382\n",
              "VHT  0.505984  0.535446  0.536724  ...  1.000000  0.492194  0.460510\n",
              "VNQ  0.471398  0.525455  0.609308  ...  0.492194  1.000000  0.599023\n",
              "VPU  0.314249  0.292001  0.635335  ...  0.460510  0.599023  1.000000\n",
              "\n",
              "[8 rows x 8 columns]"
            ]
          },
          "metadata": {},
          "execution_count": 9
        }
      ]
    },
    {
      "cell_type": "code",
      "metadata": {
        "id": "8sV59r_HhI5R",
        "colab": {
          "base_uri": "https://localhost:8080/"
        },
        "outputId": "454e2f50-b741-4fbc-ebe2-c4f989aa37a6"
      },
      "source": [
        "# Estimated yearly returns for individual ETF\n",
        "ind_er = df.resample('Y').last().pct_change().mean()\n",
        "ind_er"
      ],
      "execution_count": null,
      "outputs": [
        {
          "output_type": "execute_result",
          "data": {
            "text/plain": [
              "VAW    0.214759\n",
              "VCR    0.270513\n",
              "VDC    0.081508\n",
              "VDE    0.568777\n",
              "VGT    0.289100\n",
              "VHT    0.134456\n",
              "VNQ    0.305041\n",
              "VPU    0.092285\n",
              "dtype: float64"
            ]
          },
          "metadata": {},
          "execution_count": 10
        }
      ]
    },
    {
      "cell_type": "code",
      "metadata": {
        "id": "8xfUIJcChI5S",
        "colab": {
          "base_uri": "https://localhost:8080/"
        },
        "outputId": "d22a31e2-8d6e-48df-ddf8-1cb7479fd64b"
      },
      "source": [
        "# Variance for individual ETF\n",
        "df.resample('Y').last().pct_change().var()"
      ],
      "execution_count": null,
      "outputs": [
        {
          "output_type": "execute_result",
          "data": {
            "text/plain": [
              "VAW   NaN\n",
              "VCR   NaN\n",
              "VDC   NaN\n",
              "VDE   NaN\n",
              "VGT   NaN\n",
              "VHT   NaN\n",
              "VNQ   NaN\n",
              "VPU   NaN\n",
              "dtype: float64"
            ]
          },
          "metadata": {},
          "execution_count": 11
        }
      ]
    },
    {
      "cell_type": "code",
      "metadata": {
        "id": "A2uiU0UnhI5T",
        "colab": {
          "base_uri": "https://localhost:8080/"
        },
        "outputId": "37c85400-848e-4b2a-886b-58b4ce413b42"
      },
      "source": [
        "# Volatility is given by the annual standard deviation. We multiply by 250 because there are 250 trading days/year.\n",
        "ann_sd = df.pct_change().apply(lambda x: np.log(1+x)).std().apply(lambda x: x*np.sqrt(250))\n",
        "ann_sd"
      ],
      "execution_count": null,
      "outputs": [
        {
          "output_type": "execute_result",
          "data": {
            "text/plain": [
              "VAW    0.179056\n",
              "VCR    0.164191\n",
              "VDC    0.105709\n",
              "VDE    0.312642\n",
              "VGT    0.184825\n",
              "VHT    0.119908\n",
              "VNQ    0.144548\n",
              "VPU    0.147942\n",
              "dtype: float64"
            ]
          },
          "metadata": {},
          "execution_count": 12
        }
      ]
    },
    {
      "cell_type": "code",
      "metadata": {
        "id": "tKuw0WxOhI5T",
        "colab": {
          "base_uri": "https://localhost:8080/",
          "height": 320
        },
        "outputId": "cc110a1f-dcaa-4713-d4b3-e51611b97786"
      },
      "source": [
        "assets = pd.concat([ind_er, ann_sd], axis=1) # Creating a table for visualising returns and volatility of assets\n",
        "assets.columns = ['Returns', 'Volatility']\n",
        "assets"
      ],
      "execution_count": null,
      "outputs": [
        {
          "output_type": "execute_result",
          "data": {
            "text/html": [
              "<div>\n",
              "<style scoped>\n",
              "    .dataframe tbody tr th:only-of-type {\n",
              "        vertical-align: middle;\n",
              "    }\n",
              "\n",
              "    .dataframe tbody tr th {\n",
              "        vertical-align: top;\n",
              "    }\n",
              "\n",
              "    .dataframe thead th {\n",
              "        text-align: right;\n",
              "    }\n",
              "</style>\n",
              "<table border=\"1\" class=\"dataframe\">\n",
              "  <thead>\n",
              "    <tr style=\"text-align: right;\">\n",
              "      <th></th>\n",
              "      <th>Returns</th>\n",
              "      <th>Volatility</th>\n",
              "    </tr>\n",
              "  </thead>\n",
              "  <tbody>\n",
              "    <tr>\n",
              "      <th>VAW</th>\n",
              "      <td>0.214759</td>\n",
              "      <td>0.179056</td>\n",
              "    </tr>\n",
              "    <tr>\n",
              "      <th>VCR</th>\n",
              "      <td>0.270513</td>\n",
              "      <td>0.164191</td>\n",
              "    </tr>\n",
              "    <tr>\n",
              "      <th>VDC</th>\n",
              "      <td>0.081508</td>\n",
              "      <td>0.105709</td>\n",
              "    </tr>\n",
              "    <tr>\n",
              "      <th>VDE</th>\n",
              "      <td>0.568777</td>\n",
              "      <td>0.312642</td>\n",
              "    </tr>\n",
              "    <tr>\n",
              "      <th>VGT</th>\n",
              "      <td>0.289100</td>\n",
              "      <td>0.184825</td>\n",
              "    </tr>\n",
              "    <tr>\n",
              "      <th>VHT</th>\n",
              "      <td>0.134456</td>\n",
              "      <td>0.119908</td>\n",
              "    </tr>\n",
              "    <tr>\n",
              "      <th>VNQ</th>\n",
              "      <td>0.305041</td>\n",
              "      <td>0.144548</td>\n",
              "    </tr>\n",
              "    <tr>\n",
              "      <th>VPU</th>\n",
              "      <td>0.092285</td>\n",
              "      <td>0.147942</td>\n",
              "    </tr>\n",
              "  </tbody>\n",
              "</table>\n",
              "</div>"
            ],
            "text/plain": [
              "      Returns  Volatility\n",
              "VAW  0.214759    0.179056\n",
              "VCR  0.270513    0.164191\n",
              "VDC  0.081508    0.105709\n",
              "VDE  0.568777    0.312642\n",
              "VGT  0.289100    0.184825\n",
              "VHT  0.134456    0.119908\n",
              "VNQ  0.305041    0.144548\n",
              "VPU  0.092285    0.147942"
            ]
          },
          "metadata": {},
          "execution_count": 13
        }
      ]
    },
    {
      "cell_type": "code",
      "metadata": {
        "id": "0f4S6_2OhI5U"
      },
      "source": [
        "p_ret = [] # Define an empty array for portfolio returns\n",
        "p_vol = [] # Define an empty array for portfolio volatility\n",
        "p_weights = [] # Define an empty array for asset weights\n",
        "\n",
        "num_assets = len(df.columns)\n",
        "num_portfolios = 100000"
      ],
      "execution_count": null,
      "outputs": []
    },
    {
      "cell_type": "code",
      "metadata": {
        "id": "p4j0FMFNhI5U"
      },
      "source": [
        "# Generate the set of minimum variance portfolio\n",
        "for portfolio in range(num_portfolios):\n",
        "    weights = np.random.random(num_assets)\n",
        "    weights = weights/np.sum(weights)\n",
        "    p_weights.append(weights)\n",
        "    returns = np.dot(weights, ind_er) # Returns are the product of individual expected returns of asset and its \n",
        "                                      # weights \n",
        "    p_ret.append(returns)\n",
        "    var = cov_matrix.mul(weights, axis=0).mul(weights, axis=1).sum().sum()# Portfolio Variance\n",
        "    sd = np.sqrt(var) # Daily standard deviation\n",
        "    ann_sd = sd*np.sqrt(250) # Annual standard deviation = volatility\n",
        "    p_vol.append(ann_sd)\n",
        "    \n",
        "data = {'Returns':p_ret, 'Volatility':p_vol}"
      ],
      "execution_count": null,
      "outputs": []
    },
    {
      "cell_type": "code",
      "metadata": {
        "id": "IhxtmM0JhI5U"
      },
      "source": [
        "for counter, symbol in enumerate(df.columns.tolist()):\n",
        "    data[symbol+' weight'] = [w[counter] for w in p_weights]\n",
        "    \n",
        "portfolios  = pd.DataFrame(data)"
      ],
      "execution_count": null,
      "outputs": []
    },
    {
      "cell_type": "code",
      "metadata": {
        "id": "n73W3wRvhI5V",
        "colab": {
          "base_uri": "https://localhost:8080/"
        },
        "outputId": "d1f3382f-0044-4994-a3b3-5a65d5da05bc"
      },
      "source": [
        "# global minimum variance portfolio\n",
        "min_vol_port = portfolios.iloc[portfolios['Volatility'].idxmin()]\n",
        "min_vol_port"
      ],
      "execution_count": null,
      "outputs": [
        {
          "output_type": "execute_result",
          "data": {
            "text/plain": [
              "Returns       0.128511\n",
              "Volatility    0.099792\n",
              "VAW weight    0.036352\n",
              "VCR weight    0.049542\n",
              "VDC weight    0.430141\n",
              "VDE weight    0.013934\n",
              "VGT weight    0.021092\n",
              "VHT weight    0.248136\n",
              "VNQ weight    0.029726\n",
              "VPU weight    0.171077\n",
              "Name: 86941, dtype: float64"
            ]
          },
          "metadata": {},
          "execution_count": 17
        }
      ]
    },
    {
      "cell_type": "code",
      "metadata": {
        "id": "ovDW0g9khI5V",
        "colab": {
          "base_uri": "https://localhost:8080/"
        },
        "outputId": "a4a32a4f-416d-4db1-a5d0-2ba9d7441964"
      },
      "source": [
        "# global minimum variance portfolio\n",
        "plt.subplots(figsize=[10,10])\n",
        "plt.scatter(portfolios['Volatility'], portfolios['Returns'],marker='o', s=10, alpha=0.3)\n",
        "plt.scatter(min_vol_port[1], min_vol_port[0], color='r', marker='*', s=500)"
      ],
      "execution_count": null,
      "outputs": [
        {
          "output_type": "execute_result",
          "data": {
            "text/plain": [
              "<matplotlib.collections.PathCollection at 0x7efe9803f690>"
            ]
          },
          "metadata": {},
          "execution_count": 18
        },
        {
          "output_type": "display_data",
          "data": {
            "image/png": "[encoded data removed]",
            "text/plain": [
              "<Figure size 720x720 with 1 Axes>"
            ]
          },
          "metadata": {
            "needs_background": "light"
          }
        }
      ]
    },
    {
      "cell_type": "code",
      "metadata": {
        "id": "Y3NZDsX-hI5V",
        "colab": {
          "base_uri": "https://localhost:8080/"
        },
        "outputId": "e145bfd1-cafe-4b83-ce42-4ad81b52708b"
      },
      "source": [
        "# tangency portfolio\n",
        "rf = 0.0024 # risk free rate, from https://www.treasury.gov/resource-center/data-chart-center/interest-rates/Pages/TextView.aspx?data=yield\n",
        "optimal_risky_port = portfolios.iloc[((portfolios['Returns']-rf)/portfolios['Volatility']).idxmax()]\n",
        "optimal_risky_port"
      ],
      "execution_count": null,
      "outputs": [
        {
          "output_type": "execute_result",
          "data": {
            "text/plain": [
              "Returns       0.350716\n",
              "Volatility    0.143619\n",
              "VAW weight    0.005351\n",
              "VCR weight    0.039928\n",
              "VDC weight    0.002202\n",
              "VDE weight    0.295758\n",
              "VGT weight    0.151616\n",
              "VHT weight    0.089096\n",
              "VNQ weight    0.357966\n",
              "VPU weight    0.058083\n",
              "Name: 21459, dtype: float64"
            ]
          },
          "metadata": {},
          "execution_count": 19
        }
      ]
    },
    {
      "cell_type": "code",
      "metadata": {
        "id": "mPCdiXZGhI5W",
        "colab": {
          "base_uri": "https://localhost:8080/"
        },
        "outputId": "48ddc757-ad35-4c27-ae8d-6ae6088ffe35"
      },
      "source": [
        "# Plotting optimal portfolio\n",
        "plt.subplots(figsize=(10, 10))\n",
        "plt.scatter(portfolios['Volatility'], portfolios['Returns'],marker='o', s=10, alpha=0.3)\n",
        "plt.scatter(min_vol_port[1], min_vol_port[0], color='r', marker='*', s=500)\n",
        "plt.scatter(optimal_risky_port[1], optimal_risky_port[0], color='g', marker='*', s=500)"
      ],
      "execution_count": null,
      "outputs": [
        {
          "output_type": "execute_result",
          "data": {
            "text/plain": [
              "<matplotlib.collections.PathCollection at 0x7efe97b3d450>"
            ]
          },
          "metadata": {},
          "execution_count": 20
        },
        {
          "output_type": "display_data",
          "data": {
            "image/png": "[encoded data removed]",
            "text/plain": [
              "<Figure size 720x720 with 1 Axes>"
            ]
          },
          "metadata": {
            "needs_background": "light"
          }
        }
      ]
    },
    {
      "cell_type": "code",
      "metadata": {
        "id": "qAssMXfBhI5W",
        "colab": {
          "base_uri": "https://localhost:8080/"
        },
        "outputId": "45a2e1eb-6d85-4af7-d1ea-98a7db5f2206"
      },
      "source": [
        "# Sharpe ratio\n",
        "sharpe_ratio = (optimal_risky_port['Returns']-rf)/optimal_risky_port['Volatility']\n",
        "sharpe_ratio"
      ],
      "execution_count": null,
      "outputs": [
        {
          "output_type": "execute_result",
          "data": {
            "text/plain": [
              "2.4252789718876384"
            ]
          },
          "metadata": {},
          "execution_count": 21
        }
      ]
    }
  ]
}