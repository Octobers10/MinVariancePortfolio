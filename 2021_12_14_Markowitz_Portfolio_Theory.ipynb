{
  "nbformat": 4,
  "nbformat_minor": 0,
  "metadata": {
    "kernelspec": {
      "display_name": "Python 3",
      "language": "python",
      "name": "python3"
    },
    "language_info": {
      "codemirror_mode": {
        "name": "ipython",
        "version": 3
      },
      "file_extension": ".py",
      "mimetype": "text/x-python",
      "name": "python",
      "nbconvert_exporter": "python",
      "pygments_lexer": "ipython3",
      "version": "3.7.4"
    },
    "colab": {
      "name": "2021-12-14: Markowitz Portfolio Theory.ipynb",
      "provenance": []
    }
  },
  "cells": [
    {
      "cell_type": "code",
      "metadata": {
        "id": "YonEke1OhI5I",
        "colab": {
          "base_uri": "https://localhost:8080/"
        },
        "outputId": "48f33dd6-bb04-421b-d9a7-d7968b10bbfd"
      },
      "source": [
        "!pip install yfinance\n",
        "\n",
        "import numpy as np\n",
        "import pandas as pd\n",
        "\n",
        "#Data Source\n",
        "import yfinance as yf\n",
        "\n",
        "from pandas_datareader import data\n",
        "import matplotlib.pyplot as plt\n",
        "%matplotlib inline\n"
      ],
      "execution_count": null,
      "outputs": [
        {
          "output_type": "stream",
          "name": "stdout",
          "text": [
            "Collecting yfinance\n",
            "  Downloading yfinance-0.1.67-py2.py3-none-any.whl (25 kB)\n",
            "Collecting lxml>=4.5.1\n",
            "  Downloading lxml-4.7.1-cp37-cp37m-manylinux_2_17_x86_64.manylinux2014_x86_64.manylinux_2_24_x86_64.whl (6.4 MB)\n",
            "\u001b[K     |████████████████████████████████| 6.4 MB 13.7 MB/s \n",
            "\u001b[?25hRequirement already satisfied: pandas>=0.24 in /usr/local/lib/python3.7/dist-packages (from yfinance) (1.1.5)\n",
            "Requirement already satisfied: requests>=2.20 in /usr/local/lib/python3.7/dist-packages (from yfinance) (2.23.0)\n",
            "Requirement already satisfied: multitasking>=0.0.7 in /usr/local/lib/python3.7/dist-packages (from yfinance) (0.0.10)\n",
            "Requirement already satisfied: numpy>=1.15 in /usr/local/lib/python3.7/dist-packages (from yfinance) (1.19.5)\n",
            "Requirement already satisfied: pytz>=2017.2 in /usr/local/lib/python3.7/dist-packages (from pandas>=0.24->yfinance) (2018.9)\n",
            "Requirement already satisfied: python-dateutil>=2.7.3 in /usr/local/lib/python3.7/dist-packages (from pandas>=0.24->yfinance) (2.8.2)\n",
            "Requirement already satisfied: six>=1.5 in /usr/local/lib/python3.7/dist-packages (from python-dateutil>=2.7.3->pandas>=0.24->yfinance) (1.15.0)\n",
            "Requirement already satisfied: urllib3!=1.25.0,!=1.25.1,<1.26,>=1.21.1 in /usr/local/lib/python3.7/dist-packages (from requests>=2.20->yfinance) (1.24.3)\n",
            "Requirement already satisfied: idna<3,>=2.5 in /usr/local/lib/python3.7/dist-packages (from requests>=2.20->yfinance) (2.10)\n",
            "Requirement already satisfied: chardet<4,>=3.0.2 in /usr/local/lib/python3.7/dist-packages (from requests>=2.20->yfinance) (3.0.4)\n",
            "Requirement already satisfied: certifi>=2017.4.17 in /usr/local/lib/python3.7/dist-packages (from requests>=2.20->yfinance) (2021.10.8)\n",
            "Installing collected packages: lxml, yfinance\n",
            "  Attempting uninstall: lxml\n",
            "    Found existing installation: lxml 4.2.6\n",
            "    Uninstalling lxml-4.2.6:\n",
            "      Successfully uninstalled lxml-4.2.6\n",
            "Successfully installed lxml-4.7.1 yfinance-0.1.67\n"
          ]
        }
      ]
    },
    {
      "cell_type": "code",
      "metadata": {
        "id": "eNYRmTVnhI5M",
        "colab": {
          "base_uri": "https://localhost:8080/"
        },
        "outputId": "28b736c1-9d0d-4456-cf54-29ca60f3c88b"
      },
      "source": [
        "df = yf.download(\"VDE VAW VIS VCR VDC VHT VFH VGT VOX VPU VNQ\", period=\"1y\", interval = \"1d\")['Adj Close']"
      ],
      "execution_count": null,
      "outputs": [
        {
          "output_type": "stream",
          "name": "stdout",
          "text": [
            "[*********************100%***********************]  11 of 11 completed\n"
          ]
        }
      ]
    },
    {
      "cell_type": "code",
      "metadata": {
        "id": "rNXzISP8hI5N",
        "colab": {
          "base_uri": "https://localhost:8080/"
        },
        "outputId": "da585e0f-3e5a-4eb9-b3e8-72c8e5731e82"
      },
      "source": [
        "# Estimated yearly returns for individual ETF\n",
        "ind_er = df.resample('Y').last().pct_change().mean()\n",
        "ind_er"
      ],
      "execution_count": null,
      "outputs": [
        {
          "output_type": "execute_result",
          "data": {
            "text/plain": [
              "VAW    0.224329\n",
              "VCR    0.211401\n",
              "VDC    0.136478\n",
              "VDE    0.540326\n",
              "VFH    0.335725\n",
              "VGT    0.267205\n",
              "VHT    0.153313\n",
              "VIS    0.172794\n",
              "VNQ    0.324603\n",
              "VOX    0.110723\n",
              "VPU    0.132204\n",
              "dtype: float64"
            ]
          },
          "metadata": {},
          "execution_count": 3
        }
      ]
    },
    {
      "cell_type": "code",
      "metadata": {
        "id": "yQB9_HUbhI5O",
        "colab": {
          "base_uri": "https://localhost:8080/"
        },
        "outputId": "fe640ab1-2690-4497-8e14-065df582a4ee"
      },
      "source": [
        "# Variance for individual ETF\n",
        "df.resample('Y').last().pct_change().var()"
      ],
      "execution_count": null,
      "outputs": [
        {
          "output_type": "execute_result",
          "data": {
            "text/plain": [
              "VAW   NaN\n",
              "VCR   NaN\n",
              "VDC   NaN\n",
              "VDE   NaN\n",
              "VFH   NaN\n",
              "VGT   NaN\n",
              "VHT   NaN\n",
              "VIS   NaN\n",
              "VNQ   NaN\n",
              "VOX   NaN\n",
              "VPU   NaN\n",
              "dtype: float64"
            ]
          },
          "metadata": {},
          "execution_count": 4
        }
      ]
    },
    {
      "cell_type": "code",
      "metadata": {
        "id": "GkXSUSTJhI5O",
        "colab": {
          "base_uri": "https://localhost:8080/",
          "height": 390
        },
        "outputId": "6f1f2b3f-62a4-4afe-d042-64ba710742bf"
      },
      "source": [
        "# Correlation Coefficient Matrix\n",
        "corr_matrix = df.pct_change().apply(lambda x: np.log(1+x)).corr()\n",
        "corr_matrix"
      ],
      "execution_count": null,
      "outputs": [
        {
          "output_type": "execute_result",
          "data": {
            "text/html": [
              "<div>\n",
              "<style scoped>\n",
              "    .dataframe tbody tr th:only-of-type {\n",
              "        vertical-align: middle;\n",
              "    }\n",
              "\n",
              "    .dataframe tbody tr th {\n",
              "        vertical-align: top;\n",
              "    }\n",
              "\n",
              "    .dataframe thead th {\n",
              "        text-align: right;\n",
              "    }\n",
              "</style>\n",
              "<table border=\"1\" class=\"dataframe\">\n",
              "  <thead>\n",
              "    <tr style=\"text-align: right;\">\n",
              "      <th></th>\n",
              "      <th>VAW</th>\n",
              "      <th>VCR</th>\n",
              "      <th>VDC</th>\n",
              "      <th>VDE</th>\n",
              "      <th>VFH</th>\n",
              "      <th>VGT</th>\n",
              "      <th>VHT</th>\n",
              "      <th>VIS</th>\n",
              "      <th>VNQ</th>\n",
              "      <th>VOX</th>\n",
              "      <th>VPU</th>\n",
              "    </tr>\n",
              "  </thead>\n",
              "  <tbody>\n",
              "    <tr>\n",
              "      <th>VAW</th>\n",
              "      <td>1.000000</td>\n",
              "      <td>0.608827</td>\n",
              "      <td>0.521796</td>\n",
              "      <td>0.641216</td>\n",
              "      <td>0.815566</td>\n",
              "      <td>0.435004</td>\n",
              "      <td>0.496558</td>\n",
              "      <td>0.879864</td>\n",
              "      <td>0.469922</td>\n",
              "      <td>0.485984</td>\n",
              "      <td>0.315341</td>\n",
              "    </tr>\n",
              "    <tr>\n",
              "      <th>VCR</th>\n",
              "      <td>0.608827</td>\n",
              "      <td>1.000000</td>\n",
              "      <td>0.412910</td>\n",
              "      <td>0.361936</td>\n",
              "      <td>0.544162</td>\n",
              "      <td>0.775262</td>\n",
              "      <td>0.529612</td>\n",
              "      <td>0.695304</td>\n",
              "      <td>0.530809</td>\n",
              "      <td>0.712810</td>\n",
              "      <td>0.275793</td>\n",
              "    </tr>\n",
              "    <tr>\n",
              "      <th>VDC</th>\n",
              "      <td>0.521796</td>\n",
              "      <td>0.412910</td>\n",
              "      <td>1.000000</td>\n",
              "      <td>0.270901</td>\n",
              "      <td>0.482421</td>\n",
              "      <td>0.384374</td>\n",
              "      <td>0.521672</td>\n",
              "      <td>0.585583</td>\n",
              "      <td>0.600021</td>\n",
              "      <td>0.482088</td>\n",
              "      <td>0.662094</td>\n",
              "    </tr>\n",
              "    <tr>\n",
              "      <th>VDE</th>\n",
              "      <td>0.641216</td>\n",
              "      <td>0.361936</td>\n",
              "      <td>0.270901</td>\n",
              "      <td>1.000000</td>\n",
              "      <td>0.694939</td>\n",
              "      <td>0.195272</td>\n",
              "      <td>0.180986</td>\n",
              "      <td>0.627426</td>\n",
              "      <td>0.266279</td>\n",
              "      <td>0.328518</td>\n",
              "      <td>0.036982</td>\n",
              "    </tr>\n",
              "    <tr>\n",
              "      <th>VFH</th>\n",
              "      <td>0.815566</td>\n",
              "      <td>0.544162</td>\n",
              "      <td>0.482421</td>\n",
              "      <td>0.694939</td>\n",
              "      <td>1.000000</td>\n",
              "      <td>0.346818</td>\n",
              "      <td>0.395301</td>\n",
              "      <td>0.872074</td>\n",
              "      <td>0.468744</td>\n",
              "      <td>0.472587</td>\n",
              "      <td>0.319878</td>\n",
              "    </tr>\n",
              "    <tr>\n",
              "      <th>VGT</th>\n",
              "      <td>0.435004</td>\n",
              "      <td>0.775262</td>\n",
              "      <td>0.384374</td>\n",
              "      <td>0.195272</td>\n",
              "      <td>0.346818</td>\n",
              "      <td>1.000000</td>\n",
              "      <td>0.643834</td>\n",
              "      <td>0.525222</td>\n",
              "      <td>0.508993</td>\n",
              "      <td>0.751354</td>\n",
              "      <td>0.239726</td>\n",
              "    </tr>\n",
              "    <tr>\n",
              "      <th>VHT</th>\n",
              "      <td>0.496558</td>\n",
              "      <td>0.529612</td>\n",
              "      <td>0.521672</td>\n",
              "      <td>0.180986</td>\n",
              "      <td>0.395301</td>\n",
              "      <td>0.643834</td>\n",
              "      <td>1.000000</td>\n",
              "      <td>0.531597</td>\n",
              "      <td>0.493613</td>\n",
              "      <td>0.561962</td>\n",
              "      <td>0.467470</td>\n",
              "    </tr>\n",
              "    <tr>\n",
              "      <th>VIS</th>\n",
              "      <td>0.879864</td>\n",
              "      <td>0.695304</td>\n",
              "      <td>0.585583</td>\n",
              "      <td>0.627426</td>\n",
              "      <td>0.872074</td>\n",
              "      <td>0.525222</td>\n",
              "      <td>0.531597</td>\n",
              "      <td>1.000000</td>\n",
              "      <td>0.594376</td>\n",
              "      <td>0.585445</td>\n",
              "      <td>0.401185</td>\n",
              "    </tr>\n",
              "    <tr>\n",
              "      <th>VNQ</th>\n",
              "      <td>0.469922</td>\n",
              "      <td>0.530809</td>\n",
              "      <td>0.600021</td>\n",
              "      <td>0.266279</td>\n",
              "      <td>0.468744</td>\n",
              "      <td>0.508993</td>\n",
              "      <td>0.493613</td>\n",
              "      <td>0.594376</td>\n",
              "      <td>1.000000</td>\n",
              "      <td>0.536905</td>\n",
              "      <td>0.609146</td>\n",
              "    </tr>\n",
              "    <tr>\n",
              "      <th>VOX</th>\n",
              "      <td>0.485984</td>\n",
              "      <td>0.712810</td>\n",
              "      <td>0.482088</td>\n",
              "      <td>0.328518</td>\n",
              "      <td>0.472587</td>\n",
              "      <td>0.751354</td>\n",
              "      <td>0.561962</td>\n",
              "      <td>0.585445</td>\n",
              "      <td>0.536905</td>\n",
              "      <td>1.000000</td>\n",
              "      <td>0.340505</td>\n",
              "    </tr>\n",
              "    <tr>\n",
              "      <th>VPU</th>\n",
              "      <td>0.315341</td>\n",
              "      <td>0.275793</td>\n",
              "      <td>0.662094</td>\n",
              "      <td>0.036982</td>\n",
              "      <td>0.319878</td>\n",
              "      <td>0.239726</td>\n",
              "      <td>0.467470</td>\n",
              "      <td>0.401185</td>\n",
              "      <td>0.609146</td>\n",
              "      <td>0.340505</td>\n",
              "      <td>1.000000</td>\n",
              "    </tr>\n",
              "  </tbody>\n",
              "</table>\n",
              "</div>"
            ],
            "text/plain": [
              "          VAW       VCR       VDC  ...       VNQ       VOX       VPU\n",
              "VAW  1.000000  0.608827  0.521796  ...  0.469922  0.485984  0.315341\n",
              "VCR  0.608827  1.000000  0.412910  ...  0.530809  0.712810  0.275793\n",
              "VDC  0.521796  0.412910  1.000000  ...  0.600021  0.482088  0.662094\n",
              "VDE  0.641216  0.361936  0.270901  ...  0.266279  0.328518  0.036982\n",
              "VFH  0.815566  0.544162  0.482421  ...  0.468744  0.472587  0.319878\n",
              "VGT  0.435004  0.775262  0.384374  ...  0.508993  0.751354  0.239726\n",
              "VHT  0.496558  0.529612  0.521672  ...  0.493613  0.561962  0.467470\n",
              "VIS  0.879864  0.695304  0.585583  ...  0.594376  0.585445  0.401185\n",
              "VNQ  0.469922  0.530809  0.600021  ...  1.000000  0.536905  0.609146\n",
              "VOX  0.485984  0.712810  0.482088  ...  0.536905  1.000000  0.340505\n",
              "VPU  0.315341  0.275793  0.662094  ...  0.609146  0.340505  1.000000\n",
              "\n",
              "[11 rows x 11 columns]"
            ]
          },
          "metadata": {},
          "execution_count": 5
        }
      ]
    },
    {
      "cell_type": "code",
      "metadata": {
        "id": "pPrPKeGnhI5P",
        "colab": {
          "base_uri": "https://localhost:8080/"
        },
        "outputId": "d33b3153-99e2-4769-8f2f-16ca81bb160d"
      },
      "source": [
        "# VIS, VFH and VOX are now removed due to their high correlation coefficients\n",
        "df = yf.download(\"VDE VAW VCR VDC VHT VGT VPU VNQ\", period=\"1y\", interval = \"1d\")['Adj Close']"
      ],
      "execution_count": null,
      "outputs": [
        {
          "output_type": "stream",
          "name": "stdout",
          "text": [
            "[*********************100%***********************]  8 of 8 completed\n"
          ]
        }
      ]
    },
    {
      "cell_type": "code",
      "metadata": {
        "id": "7l40x7JJuDTc",
        "colab": {
          "base_uri": "https://localhost:8080/",
          "height": 450
        },
        "outputId": "5825e740-2911-4b63-cd88-a2205054c988"
      },
      "source": [
        "df"
      ],
      "execution_count": null,
      "outputs": [
        {
          "output_type": "execute_result",
          "data": {
            "text/html": [
              "<div>\n",
              "<style scoped>\n",
              "    .dataframe tbody tr th:only-of-type {\n",
              "        vertical-align: middle;\n",
              "    }\n",
              "\n",
              "    .dataframe tbody tr th {\n",
              "        vertical-align: top;\n",
              "    }\n",
              "\n",
              "    .dataframe thead th {\n",
              "        text-align: right;\n",
              "    }\n",
              "</style>\n",
              "<table border=\"1\" class=\"dataframe\">\n",
              "  <thead>\n",
              "    <tr style=\"text-align: right;\">\n",
              "      <th></th>\n",
              "      <th>VAW</th>\n",
              "      <th>VCR</th>\n",
              "      <th>VDC</th>\n",
              "      <th>VDE</th>\n",
              "      <th>VGT</th>\n",
              "      <th>VHT</th>\n",
              "      <th>VNQ</th>\n",
              "      <th>VPU</th>\n",
              "    </tr>\n",
              "    <tr>\n",
              "      <th>Date</th>\n",
              "      <th></th>\n",
              "      <th></th>\n",
              "      <th></th>\n",
              "      <th></th>\n",
              "      <th></th>\n",
              "      <th></th>\n",
              "      <th></th>\n",
              "      <th></th>\n",
              "    </tr>\n",
              "  </thead>\n",
              "  <tbody>\n",
              "    <tr>\n",
              "      <th>2020-12-15</th>\n",
              "      <td>152.317459</td>\n",
              "      <td>267.049438</td>\n",
              "      <td>168.897751</td>\n",
              "      <td>52.805584</td>\n",
              "      <td>342.449890</td>\n",
              "      <td>218.836884</td>\n",
              "      <td>82.785629</td>\n",
              "      <td>133.963882</td>\n",
              "    </tr>\n",
              "    <tr>\n",
              "      <th>2020-12-16</th>\n",
              "      <td>151.884796</td>\n",
              "      <td>268.450226</td>\n",
              "      <td>169.102341</td>\n",
              "      <td>52.575535</td>\n",
              "      <td>344.941193</td>\n",
              "      <td>218.057297</td>\n",
              "      <td>82.882187</td>\n",
              "      <td>132.405273</td>\n",
              "    </tr>\n",
              "    <tr>\n",
              "      <th>2020-12-17</th>\n",
              "      <td>153.727432</td>\n",
              "      <td>271.837891</td>\n",
              "      <td>170.362839</td>\n",
              "      <td>52.326454</td>\n",
              "      <td>348.083862</td>\n",
              "      <td>220.724442</td>\n",
              "      <td>83.683586</td>\n",
              "      <td>133.324203</td>\n",
              "    </tr>\n",
              "    <tr>\n",
              "      <th>2020-12-18</th>\n",
              "      <td>153.954803</td>\n",
              "      <td>270.764954</td>\n",
              "      <td>170.353012</td>\n",
              "      <td>51.425110</td>\n",
              "      <td>347.149017</td>\n",
              "      <td>221.071228</td>\n",
              "      <td>82.003540</td>\n",
              "      <td>131.857819</td>\n",
              "    </tr>\n",
              "    <tr>\n",
              "      <th>2020-12-21</th>\n",
              "      <td>153.233154</td>\n",
              "      <td>269.841034</td>\n",
              "      <td>168.838837</td>\n",
              "      <td>50.514076</td>\n",
              "      <td>348.073944</td>\n",
              "      <td>219.505798</td>\n",
              "      <td>81.540085</td>\n",
              "      <td>130.362106</td>\n",
              "    </tr>\n",
              "    <tr>\n",
              "      <th>...</th>\n",
              "      <td>...</td>\n",
              "      <td>...</td>\n",
              "      <td>...</td>\n",
              "      <td>...</td>\n",
              "      <td>...</td>\n",
              "      <td>...</td>\n",
              "      <td>...</td>\n",
              "      <td>...</td>\n",
              "    </tr>\n",
              "    <tr>\n",
              "      <th>2021-12-08</th>\n",
              "      <td>192.000000</td>\n",
              "      <td>346.329987</td>\n",
              "      <td>189.070007</td>\n",
              "      <td>80.379997</td>\n",
              "      <td>458.649994</td>\n",
              "      <td>255.169998</td>\n",
              "      <td>112.040001</td>\n",
              "      <td>150.750000</td>\n",
              "    </tr>\n",
              "    <tr>\n",
              "      <th>2021-12-09</th>\n",
              "      <td>190.750000</td>\n",
              "      <td>340.140015</td>\n",
              "      <td>189.139999</td>\n",
              "      <td>79.550003</td>\n",
              "      <td>452.700012</td>\n",
              "      <td>254.270004</td>\n",
              "      <td>110.419998</td>\n",
              "      <td>150.419998</td>\n",
              "    </tr>\n",
              "    <tr>\n",
              "      <th>2021-12-10</th>\n",
              "      <td>191.919998</td>\n",
              "      <td>341.309998</td>\n",
              "      <td>192.220001</td>\n",
              "      <td>80.220001</td>\n",
              "      <td>460.040009</td>\n",
              "      <td>254.619995</td>\n",
              "      <td>110.760002</td>\n",
              "      <td>151.059998</td>\n",
              "    </tr>\n",
              "    <tr>\n",
              "      <th>2021-12-13</th>\n",
              "      <td>190.259995</td>\n",
              "      <td>333.070007</td>\n",
              "      <td>194.380005</td>\n",
              "      <td>77.870003</td>\n",
              "      <td>453.290009</td>\n",
              "      <td>256.890015</td>\n",
              "      <td>111.800003</td>\n",
              "      <td>152.729996</td>\n",
              "    </tr>\n",
              "    <tr>\n",
              "      <th>2021-12-14</th>\n",
              "      <td>189.979996</td>\n",
              "      <td>331.170013</td>\n",
              "      <td>194.339996</td>\n",
              "      <td>77.419998</td>\n",
              "      <td>445.869995</td>\n",
              "      <td>255.649994</td>\n",
              "      <td>110.370003</td>\n",
              "      <td>151.880005</td>\n",
              "    </tr>\n",
              "  </tbody>\n",
              "</table>\n",
              "<p>252 rows × 8 columns</p>\n",
              "</div>"
            ],
            "text/plain": [
              "                   VAW         VCR  ...         VNQ         VPU\n",
              "Date                                ...                        \n",
              "2020-12-15  152.317459  267.049438  ...   82.785629  133.963882\n",
              "2020-12-16  151.884796  268.450226  ...   82.882187  132.405273\n",
              "2020-12-17  153.727432  271.837891  ...   83.683586  133.324203\n",
              "2020-12-18  153.954803  270.764954  ...   82.003540  131.857819\n",
              "2020-12-21  153.233154  269.841034  ...   81.540085  130.362106\n",
              "...                ...         ...  ...         ...         ...\n",
              "2021-12-08  192.000000  346.329987  ...  112.040001  150.750000\n",
              "2021-12-09  190.750000  340.140015  ...  110.419998  150.419998\n",
              "2021-12-10  191.919998  341.309998  ...  110.760002  151.059998\n",
              "2021-12-13  190.259995  333.070007  ...  111.800003  152.729996\n",
              "2021-12-14  189.979996  331.170013  ...  110.370003  151.880005\n",
              "\n",
              "[252 rows x 8 columns]"
            ]
          },
          "metadata": {},
          "execution_count": 7
        }
      ]
    },
    {
      "cell_type": "code",
      "metadata": {
        "id": "1x-olHCihI5Q",
        "colab": {
          "base_uri": "https://localhost:8080/",
          "height": 297
        },
        "outputId": "69bc6d07-fc27-4920-f5c4-88a54e213d83"
      },
      "source": [
        "# Covariance Matrix\n",
        "cov_matrix = df.pct_change().cov()\n",
        "cov_matrix"
      ],
      "execution_count": null,
      "outputs": [
        {
          "output_type": "execute_result",
          "data": {
            "text/html": [
              "<div>\n",
              "<style scoped>\n",
              "    .dataframe tbody tr th:only-of-type {\n",
              "        vertical-align: middle;\n",
              "    }\n",
              "\n",
              "    .dataframe tbody tr th {\n",
              "        vertical-align: top;\n",
              "    }\n",
              "\n",
              "    .dataframe thead th {\n",
              "        text-align: right;\n",
              "    }\n",
              "</style>\n",
              "<table border=\"1\" class=\"dataframe\">\n",
              "  <thead>\n",
              "    <tr style=\"text-align: right;\">\n",
              "      <th></th>\n",
              "      <th>VAW</th>\n",
              "      <th>VCR</th>\n",
              "      <th>VDC</th>\n",
              "      <th>VDE</th>\n",
              "      <th>VGT</th>\n",
              "      <th>VHT</th>\n",
              "      <th>VNQ</th>\n",
              "      <th>VPU</th>\n",
              "    </tr>\n",
              "  </thead>\n",
              "  <tbody>\n",
              "    <tr>\n",
              "      <th>VAW</th>\n",
              "      <td>0.000127</td>\n",
              "      <td>0.000074</td>\n",
              "      <td>0.000040</td>\n",
              "      <td>0.000139</td>\n",
              "      <td>0.000059</td>\n",
              "      <td>0.000042</td>\n",
              "      <td>0.000049</td>\n",
              "      <td>0.000033</td>\n",
              "    </tr>\n",
              "    <tr>\n",
              "      <th>VCR</th>\n",
              "      <td>0.000074</td>\n",
              "      <td>0.000116</td>\n",
              "      <td>0.000030</td>\n",
              "      <td>0.000075</td>\n",
              "      <td>0.000101</td>\n",
              "      <td>0.000043</td>\n",
              "      <td>0.000053</td>\n",
              "      <td>0.000027</td>\n",
              "    </tr>\n",
              "    <tr>\n",
              "      <th>VDC</th>\n",
              "      <td>0.000040</td>\n",
              "      <td>0.000030</td>\n",
              "      <td>0.000047</td>\n",
              "      <td>0.000036</td>\n",
              "      <td>0.000032</td>\n",
              "      <td>0.000027</td>\n",
              "      <td>0.000038</td>\n",
              "      <td>0.000042</td>\n",
              "    </tr>\n",
              "    <tr>\n",
              "      <th>VDE</th>\n",
              "      <td>0.000139</td>\n",
              "      <td>0.000075</td>\n",
              "      <td>0.000036</td>\n",
              "      <td>0.000374</td>\n",
              "      <td>0.000045</td>\n",
              "      <td>0.000026</td>\n",
              "      <td>0.000048</td>\n",
              "      <td>0.000006</td>\n",
              "    </tr>\n",
              "    <tr>\n",
              "      <th>VGT</th>\n",
              "      <td>0.000059</td>\n",
              "      <td>0.000101</td>\n",
              "      <td>0.000032</td>\n",
              "      <td>0.000045</td>\n",
              "      <td>0.000146</td>\n",
              "      <td>0.000059</td>\n",
              "      <td>0.000057</td>\n",
              "      <td>0.000027</td>\n",
              "    </tr>\n",
              "    <tr>\n",
              "      <th>VHT</th>\n",
              "      <td>0.000042</td>\n",
              "      <td>0.000043</td>\n",
              "      <td>0.000027</td>\n",
              "      <td>0.000026</td>\n",
              "      <td>0.000059</td>\n",
              "      <td>0.000057</td>\n",
              "      <td>0.000035</td>\n",
              "      <td>0.000033</td>\n",
              "    </tr>\n",
              "    <tr>\n",
              "      <th>VNQ</th>\n",
              "      <td>0.000049</td>\n",
              "      <td>0.000053</td>\n",
              "      <td>0.000038</td>\n",
              "      <td>0.000048</td>\n",
              "      <td>0.000057</td>\n",
              "      <td>0.000035</td>\n",
              "      <td>0.000087</td>\n",
              "      <td>0.000053</td>\n",
              "    </tr>\n",
              "    <tr>\n",
              "      <th>VPU</th>\n",
              "      <td>0.000033</td>\n",
              "      <td>0.000027</td>\n",
              "      <td>0.000042</td>\n",
              "      <td>0.000006</td>\n",
              "      <td>0.000027</td>\n",
              "      <td>0.000033</td>\n",
              "      <td>0.000053</td>\n",
              "      <td>0.000086</td>\n",
              "    </tr>\n",
              "  </tbody>\n",
              "</table>\n",
              "</div>"
            ],
            "text/plain": [
              "          VAW       VCR       VDC  ...       VHT       VNQ       VPU\n",
              "VAW  0.000127  0.000074  0.000040  ...  0.000042  0.000049  0.000033\n",
              "VCR  0.000074  0.000116  0.000030  ...  0.000043  0.000053  0.000027\n",
              "VDC  0.000040  0.000030  0.000047  ...  0.000027  0.000038  0.000042\n",
              "VDE  0.000139  0.000075  0.000036  ...  0.000026  0.000048  0.000006\n",
              "VGT  0.000059  0.000101  0.000032  ...  0.000059  0.000057  0.000027\n",
              "VHT  0.000042  0.000043  0.000027  ...  0.000057  0.000035  0.000033\n",
              "VNQ  0.000049  0.000053  0.000038  ...  0.000035  0.000087  0.000053\n",
              "VPU  0.000033  0.000027  0.000042  ...  0.000033  0.000053  0.000086\n",
              "\n",
              "[8 rows x 8 columns]"
            ]
          },
          "metadata": {},
          "execution_count": 8
        }
      ]
    },
    {
      "cell_type": "code",
      "metadata": {
        "id": "zTItEcAvhI5Q",
        "colab": {
          "base_uri": "https://localhost:8080/",
          "height": 297
        },
        "outputId": "f566813a-70f4-42b4-abbb-ce1d94b7bf0a"
      },
      "source": [
        "# Correlation Coefficient Matrix\n",
        "corr_matrix = df.pct_change().apply(lambda x: np.log(1+x)).corr()\n",
        "corr_matrix"
      ],
      "execution_count": null,
      "outputs": [
        {
          "output_type": "execute_result",
          "data": {
            "text/html": [
              "<div>\n",
              "<style scoped>\n",
              "    .dataframe tbody tr th:only-of-type {\n",
              "        vertical-align: middle;\n",
              "    }\n",
              "\n",
              "    .dataframe tbody tr th {\n",
              "        vertical-align: top;\n",
              "    }\n",
              "\n",
              "    .dataframe thead th {\n",
              "        text-align: right;\n",
              "    }\n",
              "</style>\n",
              "<table border=\"1\" class=\"dataframe\">\n",
              "  <thead>\n",
              "    <tr style=\"text-align: right;\">\n",
              "      <th></th>\n",
              "      <th>VAW</th>\n",
              "      <th>VCR</th>\n",
              "      <th>VDC</th>\n",
              "      <th>VDE</th>\n",
              "      <th>VGT</th>\n",
              "      <th>VHT</th>\n",
              "      <th>VNQ</th>\n",
              "      <th>VPU</th>\n",
              "    </tr>\n",
              "  </thead>\n",
              "  <tbody>\n",
              "    <tr>\n",
              "      <th>VAW</th>\n",
              "      <td>1.000000</td>\n",
              "      <td>0.608827</td>\n",
              "      <td>0.521796</td>\n",
              "      <td>0.641216</td>\n",
              "      <td>0.435004</td>\n",
              "      <td>0.496558</td>\n",
              "      <td>0.469921</td>\n",
              "      <td>0.315341</td>\n",
              "    </tr>\n",
              "    <tr>\n",
              "      <th>VCR</th>\n",
              "      <td>0.608827</td>\n",
              "      <td>1.000000</td>\n",
              "      <td>0.412910</td>\n",
              "      <td>0.361936</td>\n",
              "      <td>0.775262</td>\n",
              "      <td>0.529612</td>\n",
              "      <td>0.530808</td>\n",
              "      <td>0.275792</td>\n",
              "    </tr>\n",
              "    <tr>\n",
              "      <th>VDC</th>\n",
              "      <td>0.521796</td>\n",
              "      <td>0.412910</td>\n",
              "      <td>1.000000</td>\n",
              "      <td>0.270901</td>\n",
              "      <td>0.384375</td>\n",
              "      <td>0.521672</td>\n",
              "      <td>0.600020</td>\n",
              "      <td>0.662094</td>\n",
              "    </tr>\n",
              "    <tr>\n",
              "      <th>VDE</th>\n",
              "      <td>0.641216</td>\n",
              "      <td>0.361936</td>\n",
              "      <td>0.270901</td>\n",
              "      <td>1.000000</td>\n",
              "      <td>0.195272</td>\n",
              "      <td>0.180986</td>\n",
              "      <td>0.266278</td>\n",
              "      <td>0.036982</td>\n",
              "    </tr>\n",
              "    <tr>\n",
              "      <th>VGT</th>\n",
              "      <td>0.435004</td>\n",
              "      <td>0.775262</td>\n",
              "      <td>0.384375</td>\n",
              "      <td>0.195272</td>\n",
              "      <td>1.000000</td>\n",
              "      <td>0.643835</td>\n",
              "      <td>0.508992</td>\n",
              "      <td>0.239726</td>\n",
              "    </tr>\n",
              "    <tr>\n",
              "      <th>VHT</th>\n",
              "      <td>0.496558</td>\n",
              "      <td>0.529612</td>\n",
              "      <td>0.521672</td>\n",
              "      <td>0.180986</td>\n",
              "      <td>0.643835</td>\n",
              "      <td>1.000000</td>\n",
              "      <td>0.493612</td>\n",
              "      <td>0.467469</td>\n",
              "    </tr>\n",
              "    <tr>\n",
              "      <th>VNQ</th>\n",
              "      <td>0.469921</td>\n",
              "      <td>0.530808</td>\n",
              "      <td>0.600020</td>\n",
              "      <td>0.266278</td>\n",
              "      <td>0.508992</td>\n",
              "      <td>0.493612</td>\n",
              "      <td>1.000000</td>\n",
              "      <td>0.609147</td>\n",
              "    </tr>\n",
              "    <tr>\n",
              "      <th>VPU</th>\n",
              "      <td>0.315341</td>\n",
              "      <td>0.275792</td>\n",
              "      <td>0.662094</td>\n",
              "      <td>0.036982</td>\n",
              "      <td>0.239726</td>\n",
              "      <td>0.467469</td>\n",
              "      <td>0.609147</td>\n",
              "      <td>1.000000</td>\n",
              "    </tr>\n",
              "  </tbody>\n",
              "</table>\n",
              "</div>"
            ],
            "text/plain": [
              "          VAW       VCR       VDC  ...       VHT       VNQ       VPU\n",
              "VAW  1.000000  0.608827  0.521796  ...  0.496558  0.469921  0.315341\n",
              "VCR  0.608827  1.000000  0.412910  ...  0.529612  0.530808  0.275792\n",
              "VDC  0.521796  0.412910  1.000000  ...  0.521672  0.600020  0.662094\n",
              "VDE  0.641216  0.361936  0.270901  ...  0.180986  0.266278  0.036982\n",
              "VGT  0.435004  0.775262  0.384375  ...  0.643835  0.508992  0.239726\n",
              "VHT  0.496558  0.529612  0.521672  ...  1.000000  0.493612  0.467469\n",
              "VNQ  0.469921  0.530808  0.600020  ...  0.493612  1.000000  0.609147\n",
              "VPU  0.315341  0.275792  0.662094  ...  0.467469  0.609147  1.000000\n",
              "\n",
              "[8 rows x 8 columns]"
            ]
          },
          "metadata": {},
          "execution_count": 9
        }
      ]
    },
    {
      "cell_type": "code",
      "metadata": {
        "id": "8sV59r_HhI5R",
        "colab": {
          "base_uri": "https://localhost:8080/"
        },
        "outputId": "cad3e1de-0121-43f9-ad62-581957326b7a"
      },
      "source": [
        "# Estimated yearly returns for individual ETF\n",
        "ind_er = df.resample('Y').last().pct_change().mean()\n",
        "ind_er"
      ],
      "execution_count": null,
      "outputs": [
        {
          "output_type": "execute_result",
          "data": {
            "text/plain": [
              "VAW    0.224329\n",
              "VCR    0.211401\n",
              "VDC    0.136478\n",
              "VDE    0.540326\n",
              "VGT    0.267205\n",
              "VHT    0.153313\n",
              "VNQ    0.324603\n",
              "VPU    0.132204\n",
              "dtype: float64"
            ]
          },
          "metadata": {},
          "execution_count": 10
        }
      ]
    },
    {
      "cell_type": "code",
      "metadata": {
        "id": "A2uiU0UnhI5T",
        "colab": {
          "base_uri": "https://localhost:8080/"
        },
        "outputId": "cb9381e1-e9fc-438f-9e6b-f5aeccf7d968"
      },
      "source": [
        "# Volatility is given by the annual standard deviation. We multiply by 250 because there are 250 trading days/year.\n",
        "ann_sd = df.pct_change().apply(lambda x: np.log(1+x)).std().apply(lambda x: x*np.sqrt(250))\n",
        "ann_sd"
      ],
      "execution_count": null,
      "outputs": [
        {
          "output_type": "execute_result",
          "data": {
            "text/plain": [
              "VAW    0.177807\n",
              "VCR    0.170426\n",
              "VDC    0.108430\n",
              "VDE    0.305094\n",
              "VGT    0.190833\n",
              "VHT    0.119800\n",
              "VNQ    0.147888\n",
              "VPU    0.147161\n",
              "dtype: float64"
            ]
          },
          "metadata": {},
          "execution_count": 11
        }
      ]
    },
    {
      "cell_type": "code",
      "metadata": {
        "id": "tKuw0WxOhI5T",
        "colab": {
          "base_uri": "https://localhost:8080/",
          "height": 297
        },
        "outputId": "ceec6bb7-b874-4f10-c3fa-72e78a880774"
      },
      "source": [
        "assets = pd.concat([ind_er, ann_sd], axis=1) # Creating a table for visualising returns and volatility of assets\n",
        "assets.columns = ['Returns', 'Volatility']\n",
        "assets"
      ],
      "execution_count": null,
      "outputs": [
        {
          "output_type": "execute_result",
          "data": {
            "text/html": [
              "<div>\n",
              "<style scoped>\n",
              "    .dataframe tbody tr th:only-of-type {\n",
              "        vertical-align: middle;\n",
              "    }\n",
              "\n",
              "    .dataframe tbody tr th {\n",
              "        vertical-align: top;\n",
              "    }\n",
              "\n",
              "    .dataframe thead th {\n",
              "        text-align: right;\n",
              "    }\n",
              "</style>\n",
              "<table border=\"1\" class=\"dataframe\">\n",
              "  <thead>\n",
              "    <tr style=\"text-align: right;\">\n",
              "      <th></th>\n",
              "      <th>Returns</th>\n",
              "      <th>Volatility</th>\n",
              "    </tr>\n",
              "  </thead>\n",
              "  <tbody>\n",
              "    <tr>\n",
              "      <th>VAW</th>\n",
              "      <td>0.224329</td>\n",
              "      <td>0.177807</td>\n",
              "    </tr>\n",
              "    <tr>\n",
              "      <th>VCR</th>\n",
              "      <td>0.211401</td>\n",
              "      <td>0.170426</td>\n",
              "    </tr>\n",
              "    <tr>\n",
              "      <th>VDC</th>\n",
              "      <td>0.136478</td>\n",
              "      <td>0.108430</td>\n",
              "    </tr>\n",
              "    <tr>\n",
              "      <th>VDE</th>\n",
              "      <td>0.540326</td>\n",
              "      <td>0.305094</td>\n",
              "    </tr>\n",
              "    <tr>\n",
              "      <th>VGT</th>\n",
              "      <td>0.267205</td>\n",
              "      <td>0.190833</td>\n",
              "    </tr>\n",
              "    <tr>\n",
              "      <th>VHT</th>\n",
              "      <td>0.153313</td>\n",
              "      <td>0.119800</td>\n",
              "    </tr>\n",
              "    <tr>\n",
              "      <th>VNQ</th>\n",
              "      <td>0.324603</td>\n",
              "      <td>0.147888</td>\n",
              "    </tr>\n",
              "    <tr>\n",
              "      <th>VPU</th>\n",
              "      <td>0.132204</td>\n",
              "      <td>0.147161</td>\n",
              "    </tr>\n",
              "  </tbody>\n",
              "</table>\n",
              "</div>"
            ],
            "text/plain": [
              "      Returns  Volatility\n",
              "VAW  0.224329    0.177807\n",
              "VCR  0.211401    0.170426\n",
              "VDC  0.136478    0.108430\n",
              "VDE  0.540326    0.305094\n",
              "VGT  0.267205    0.190833\n",
              "VHT  0.153313    0.119800\n",
              "VNQ  0.324603    0.147888\n",
              "VPU  0.132204    0.147161"
            ]
          },
          "metadata": {},
          "execution_count": 12
        }
      ]
    },
    {
      "cell_type": "code",
      "metadata": {
        "id": "0f4S6_2OhI5U"
      },
      "source": [
        "p_ret = [] # Define an empty array for portfolio returns\n",
        "p_vol = [] # Define an empty array for portfolio volatility\n",
        "p_weights = [] # Define an empty array for asset weights\n",
        "\n",
        "num_assets = len(df.columns)\n",
        "num_portfolios = 200000"
      ],
      "execution_count": null,
      "outputs": []
    },
    {
      "cell_type": "code",
      "metadata": {
        "id": "p4j0FMFNhI5U"
      },
      "source": [
        "# Generate the set of minimum variance portfolio\n",
        "for portfolio in range(num_portfolios):\n",
        "    weights = np.random.random(num_assets)\n",
        "    weights = weights/np.sum(weights)\n",
        "    p_weights.append(weights)\n",
        "    returns = np.dot(weights, ind_er) # Returns are the product of individual expected returns of asset and its \n",
        "                                      # weights \n",
        "    p_ret.append(returns)\n",
        "    var = cov_matrix.mul(weights, axis=0).mul(weights, axis=1).sum().sum()# Portfolio Variance\n",
        "    sd = np.sqrt(var) # Daily standard deviation\n",
        "    ann_sd = sd*np.sqrt(250) # Annual standard deviation = volatility\n",
        "    p_vol.append(ann_sd)\n",
        "    \n",
        "data = {'Returns':p_ret, 'Volatility':p_vol}"
      ],
      "execution_count": null,
      "outputs": []
    },
    {
      "cell_type": "code",
      "metadata": {
        "id": "IhxtmM0JhI5U"
      },
      "source": [
        "for counter, symbol in enumerate(df.columns.tolist()):\n",
        "    data[symbol+' weight'] = [w[counter] for w in p_weights]\n",
        "    \n",
        "portfolios  = pd.DataFrame(data)"
      ],
      "execution_count": null,
      "outputs": []
    },
    {
      "cell_type": "code",
      "metadata": {
        "id": "n73W3wRvhI5V",
        "colab": {
          "base_uri": "https://localhost:8080/"
        },
        "outputId": "189795ac-aeb7-4c69-d0f8-39ba590a67c8"
      },
      "source": [
        "# global minimum variance portfolio\n",
        "min_vol_port = portfolios.iloc[portfolios['Volatility'].idxmin()]\n",
        "min_vol_port"
      ],
      "execution_count": null,
      "outputs": [
        {
          "output_type": "execute_result",
          "data": {
            "text/plain": [
              "Returns       0.159806\n",
              "Volatility    0.100248\n",
              "VAW weight    0.028458\n",
              "VCR weight    0.085728\n",
              "VDC weight    0.379550\n",
              "VDE weight    0.000984\n",
              "VGT weight    0.009347\n",
              "VHT weight    0.378067\n",
              "VNQ weight    0.035989\n",
              "VPU weight    0.081877\n",
              "Name: 175219, dtype: float64"
            ]
          },
          "metadata": {},
          "execution_count": 16
        }
      ]
    },
    {
      "cell_type": "code",
      "metadata": {
        "id": "ovDW0g9khI5V",
        "colab": {
          "base_uri": "https://localhost:8080/",
          "height": 609
        },
        "outputId": "f621de3f-71d2-48b8-8b33-f2dd981b9c75"
      },
      "source": [
        "# global minimum variance portfolio\n",
        "plt.subplots(figsize=[10,10])\n",
        "plt.scatter(portfolios['Volatility'], portfolios['Returns'],marker='o', s=10, alpha=0.3)\n",
        "plt.scatter(min_vol_port[1], min_vol_port[0], color='r', marker='*', s=500)"
      ],
      "execution_count": null,
      "outputs": [
        {
          "output_type": "execute_result",
          "data": {
            "text/plain": [
              "<matplotlib.collections.PathCollection at 0x7f49d443ad10>"
            ]
          },
          "metadata": {},
          "execution_count": 17
        },
        {
          "output_type": "display_data",
          "data": {
            "image/png": "[encoded data removed]",
            "text/plain": [
              "<Figure size 720x720 with 1 Axes>"
            ]
          },
          "metadata": {
            "needs_background": "light"
          }
        }
      ]
    },
    {
      "cell_type": "code",
      "metadata": {
        "id": "Y3NZDsX-hI5V",
        "colab": {
          "base_uri": "https://localhost:8080/"
        },
        "outputId": "38f1a11f-85fc-41ae-862c-0b7bcf8ee965"
      },
      "source": [
        "# tangency portfolio\n",
        "rf = 0.0026 # risk free rate, from https://www.treasury.gov/resource-center/data-chart-center/interest-rates/Pages/TextView.aspx?data=yield\n",
        "optimal_risky_port = portfolios.iloc[((portfolios['Returns']-rf)/portfolios['Volatility']).idxmax()]\n",
        "optimal_risky_port"
      ],
      "execution_count": null,
      "outputs": [
        {
          "output_type": "execute_result",
          "data": {
            "text/plain": [
              "Returns       0.377000\n",
              "Volatility    0.155338\n",
              "VAW weight    0.005194\n",
              "VCR weight    0.067851\n",
              "VDC weight    0.008694\n",
              "VDE weight    0.338665\n",
              "VGT weight    0.022574\n",
              "VHT weight    0.012932\n",
              "VNQ weight    0.506080\n",
              "VPU weight    0.038010\n",
              "Name: 44482, dtype: float64"
            ]
          },
          "metadata": {},
          "execution_count": 18
        }
      ]
    },
    {
      "cell_type": "code",
      "metadata": {
        "id": "mPCdiXZGhI5W",
        "colab": {
          "base_uri": "https://localhost:8080/",
          "height": 609
        },
        "outputId": "a8b905bf-1fff-4c66-efb8-7c9befa97ef7"
      },
      "source": [
        "# Plotting optimal portfolio\n",
        "plt.subplots(figsize=(10, 10))\n",
        "plt.scatter(portfolios['Volatility'], portfolios['Returns'],marker='o', s=10, alpha=0.3)\n",
        "plt.scatter(min_vol_port[1], min_vol_port[0], color='r', marker='*', s=500)\n",
        "plt.scatter(optimal_risky_port[1], optimal_risky_port[0], color='g', marker='*', s=500)"
      ],
      "execution_count": null,
      "outputs": [
        {
          "output_type": "execute_result",
          "data": {
            "text/plain": [
              "<matplotlib.collections.PathCollection at 0x7f49d3f38b50>"
            ]
          },
          "metadata": {},
          "execution_count": 19
        },
        {
          "output_type": "display_data",
          "data": {
            "image/png": "[encoded data removed]",
            "text/plain": [
              "<Figure size 720x720 with 1 Axes>"
            ]
          },
          "metadata": {
            "needs_background": "light"
          }
        }
      ]
    },
    {
      "cell_type": "code",
      "metadata": {
        "id": "qAssMXfBhI5W",
        "colab": {
          "base_uri": "https://localhost:8080/"
        },
        "outputId": "25adbf4a-3579-4797-802f-eccdfeb328b3"
      },
      "source": [
        "# Sharpe ratio\n",
        "sharpe_ratio = (optimal_risky_port['Returns']-rf)/optimal_risky_port['Volatility']\n",
        "sharpe_ratio"
      ],
      "execution_count": null,
      "outputs": [
        {
          "output_type": "execute_result",
          "data": {
            "text/plain": [
              "2.4102298740370895"
            ]
          },
          "metadata": {},
          "execution_count": 20
        }
      ]
    },
    {
      "cell_type": "code",
      "source": [
        "weights = [0.005323313, 0.037556476, 0.002283959, 0.291281377, 0.149472413, 0.089943302, 0.364340258, 0.059798901]\n",
        "print(np.sum(weights))\n",
        "returns = np.dot(weights, ind_er)\n",
        "var = cov_matrix.mul(weights, axis=0).mul(weights, axis=1).sum().sum()# Portfolio Variance\n",
        "sd = np.sqrt(var) # Daily standard deviation\n",
        "ann_sd = sd*np.sqrt(250) # Annual standard deviation = volatility\n",
        "print(returns)\n",
        "print(ann_sd)"
      ],
      "metadata": {
        "colab": {
          "base_uri": "https://localhost:8080/"
        },
        "id": "7O5NG57Nw1wL",
        "outputId": "3c4dcd4e-e503-4480-9550-b128fff8c085"
      },
      "execution_count": null,
      "outputs": [
        {
          "output_type": "stream",
          "name": "stdout",
          "text": [
            "0.999999999\n",
            "0.34673326867663873\n",
            "0.143244263754405\n"
          ]
        }
      ]
    },
    {
      "cell_type": "code",
      "source": [
        "current_sharpe_ratio = (optimal_risky_port['Returns']-rf)/optimal_risky_port['Volatility']"
      ],
      "metadata": {
        "id": "chk7QyVXzODa"
      },
      "execution_count": null,
      "outputs": []
    }
  ]
}